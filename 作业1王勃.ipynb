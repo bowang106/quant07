{
 "cells": [
  {
   "cell_type": "code",
   "execution_count": null,
   "metadata": {},
   "outputs": [
    {
     "name": "stdout",
     "output_type": "stream",
     "text": [
      "<class 'int'>\n",
      "<class 'float'>\n",
      "12\n",
      "False\n"
     ]
    }
   ],
   "source": [
    "print(type(4))\n",
    "print(type(4.2))\n",
    "\n",
    "a = 1\n",
    "b = 3\n",
    "c = 8\n",
    "print(a + b + c)\n",
    "print(a == b)\n",
    "\n",
    "number = input()\n",
    "if 100 >= int(number) >= 1:\n",
    "    print(\"100以内的数字\")\n",
    "    print(number)\n",
    "else:\n",
    "    print(\"区间外的数字\")\n",
    "\n",
    "#单行注解：#，多行注解：''' '''\n",
    "\n",
    "l = [1, 2, 3, 4]\n",
    "for i in l:\n",
    "     for j in l:\n",
    "            for k in l:\n",
    "             if(i != j) and (j != k) and (k != i):\n",
    "                 print(i,j,k)\n",
    "\n",
    "\n",
    "a=[1, 2, 3, 4, 5]\n",
    "print(a[::2])\n",
    "print(a[-2:])\n",
    "\n",
    "\n",
    "def filter_odd(number):\n",
    "    return number % 2 == 0\n",
    "\n",
    "print(list(filter(filter_odd,[1,2,7,12,45,56,66])))"
   ]
  }
 ],
 "metadata": {
  "kernelspec": {
   "display_name": "Python 3",
   "language": "python",
   "name": "python3"
  },
  "language_info": {
   "codemirror_mode": {
    "name": "ipython",
    "version": 3
   },
   "file_extension": ".py",
   "mimetype": "text/x-python",
   "name": "python",
   "nbconvert_exporter": "python",
   "pygments_lexer": "ipython3",
   "version": "3.7.3"
  }
 },
 "nbformat": 4,
 "nbformat_minor": 2
}
